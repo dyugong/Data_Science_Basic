{
  "nbformat": 4,
  "nbformat_minor": 0,
  "metadata": {
    "colab": {
      "provenance": [],
      "include_colab_link": true
    },
    "kernelspec": {
      "name": "python3",
      "display_name": "Python 3"
    },
    "language_info": {
      "name": "python"
    }
  },
  "cells": [
    {
      "cell_type": "markdown",
      "metadata": {
        "id": "view-in-github",
        "colab_type": "text"
      },
      "source": [
        "<a href=\"https://colab.research.google.com/github/dyugong/Data_Science_Basic/blob/main/Mendel.ipynb\" target=\"_parent\"><img src=\"https://colab.research.google.com/assets/colab-badge.svg\" alt=\"Open In Colab\"/></a>"
      ]
    },
    {
      "cell_type": "code",
      "execution_count": null,
      "metadata": {
        "id": "m5teD8rueUVi"
      },
      "outputs": [],
      "source": [
        "from datascience import *\n",
        "import numpy as np\n",
        "\n",
        "%matplotlib inline\n",
        "import matplotlib.pyplot as plots\n",
        "plots.style.use('fivethirtyeight')\n",
        "\n",
        "# 랜덤 넘버 제너레이터 시작~~\n",
        "#np.random.seed(3)\n"
      ]
    },
    {
      "cell_type": "code",
      "source": [
        "flowers = Table().with_columns(\n",
        "'Color', make_array('Purple', 'White'),\n",
        "'Model Proportion', make_array(0.75, 0.25),\n",
        "'Plants', make_array(705, 224)\n",
        ")\n",
        "flowers"
      ],
      "metadata": {
        "colab": {
          "base_uri": "https://localhost:8080/",
          "height": 112
        },
        "id": "URNmQUCpWgno",
        "outputId": "8a27ca04-1245-4246-baec-051575ec3975"
      },
      "execution_count": null,
      "outputs": [
        {
          "output_type": "execute_result",
          "data": {
            "text/plain": [
              "Color  | Model Proportion | Plants\n",
              "Purple | 0.75             | 705\n",
              "White  | 0.25             | 224"
            ],
            "text/html": [
              "<table border=\"1\" class=\"dataframe\">\n",
              "    <thead>\n",
              "        <tr>\n",
              "            <th>Color</th> <th>Model Proportion</th> <th>Plants</th>\n",
              "        </tr>\n",
              "    </thead>\n",
              "    <tbody>\n",
              "        <tr>\n",
              "            <td>Purple</td> <td>0.75            </td> <td>705   </td>\n",
              "        </tr>\n",
              "        <tr>\n",
              "            <td>White </td> <td>0.25            </td> <td>224   </td>\n",
              "        </tr>\n",
              "    </tbody>\n",
              "</table>"
            ]
          },
          "metadata": {},
          "execution_count": 2
        }
      ]
    },
    {
      "cell_type": "code",
      "source": [
        "total_plants = flowers.column('Plants').sum()\n",
        "total_plants"
      ],
      "metadata": {
        "colab": {
          "base_uri": "https://localhost:8080/"
        },
        "id": "Skuz7friXZBz",
        "outputId": "29ef3f0f-dcf7-4999-f52a-363e56a89933"
      },
      "execution_count": null,
      "outputs": [
        {
          "output_type": "execute_result",
          "data": {
            "text/plain": [
              "929"
            ]
          },
          "metadata": {},
          "execution_count": 3
        }
      ]
    },
    {
      "cell_type": "code",
      "source": [
        "observed_proportion = flowers.column('Plants').item(0)/total_plants\n",
        "observed_proportion"
      ],
      "metadata": {
        "colab": {
          "base_uri": "https://localhost:8080/"
        },
        "id": "CdCAGn7IXgkE",
        "outputId": "342960c3-324e-42c8-9229-9ee0d9917d52"
      },
      "execution_count": null,
      "outputs": [
        {
          "output_type": "execute_result",
          "data": {
            "text/plain": [
              "0.7588805166846071"
            ]
          },
          "metadata": {},
          "execution_count": 5
        }
      ]
    },
    {
      "cell_type": "code",
      "source": [
        "observed_statistic = abs(observed_proportion - 0.75)\n",
        "observed_statistic"
      ],
      "metadata": {
        "colab": {
          "base_uri": "https://localhost:8080/"
        },
        "id": "WplDD7CiXmYJ",
        "outputId": "e00d71ff-7e9d-409d-e238-dfd3c6eeb0da"
      },
      "execution_count": null,
      "outputs": [
        {
          "output_type": "execute_result",
          "data": {
            "text/plain": [
              "0.0088805166846070982"
            ]
          },
          "metadata": {},
          "execution_count": 6
        }
      ]
    },
    {
      "cell_type": "code",
      "source": [
        "model_colors = make_array('Purple', 'Purple', 'Purple', 'White')\n",
        "new_sample = np.random.choice(model_colors, total_plants)"
      ],
      "metadata": {
        "id": "eAKvGtGmXq30"
      },
      "execution_count": null,
      "outputs": []
    },
    {
      "cell_type": "code",
      "source": [
        "proportion_purple = np.count_nonzero(new_sample == 'Purple')/total_plants\n",
        "abs(proportion_purple - 0.75)"
      ],
      "metadata": {
        "colab": {
          "base_uri": "https://localhost:8080/"
        },
        "id": "8tuiLqJRXzOD",
        "outputId": "e4e4645b-4eb2-40eb-ca09-fcbf1d88d32c"
      },
      "execution_count": null,
      "outputs": [
        {
          "output_type": "execute_result",
          "data": {
            "text/plain": [
              "0.016953713670613602"
            ]
          },
          "metadata": {},
          "execution_count": 9
        }
      ]
    },
    {
      "cell_type": "code",
      "source": [
        "repetitions = 5000\n",
        "sampled_stats = make_array()\n",
        "for i in np.arange(repetitions):\n",
        "    new_sample = np.random.choice(model_colors, total_plants)\n",
        "    proportion_purple = np.count_nonzero(new_sample == 'Purple')/total_plants\n",
        "    sampled_stats = np.append(sampled_stats, abs(proportion_purple - 0.75))\n",
        "\n",
        "results = Table().with_column('Distance from 0.75', sampled_stats)\n",
        "results.hist()"
      ],
      "metadata": {
        "colab": {
          "base_uri": "https://localhost:8080/",
          "height": 410
        },
        "id": "Yrb2slaSX6tu",
        "outputId": "483538c2-d828-4d2b-f940-54521b074962"
      },
      "execution_count": null,
      "outputs": [
        {
          "output_type": "display_data",
          "data": {
            "text/plain": [
              "<Figure size 600x400 with 1 Axes>"
            ],
            "image/png": "[encoded data removed]"
          },
          "metadata": {}
        }
      ]
    },
    {
      "cell_type": "code",
      "source": [
        "results.hist()\n",
        "#Plot the observed statistic as a large red point on the horizontal axis\n",
        "plots.scatter(observed_statistic, 0, color='red', s=30);"
      ],
      "metadata": {
        "colab": {
          "base_uri": "https://localhost:8080/",
          "height": 410
        },
        "id": "eT5LKnF1YIx1",
        "outputId": "00c08e6d-b149-430b-bd42-f8cbe7bf8e8a"
      },
      "execution_count": null,
      "outputs": [
        {
          "output_type": "display_data",
          "data": {
            "text/plain": [
              "<Figure size 600x400 with 1 Axes>"
            ],
            "image/png": "[encoded data removed]"
          },
          "metadata": {}
        }
      ]
    },
    {
      "cell_type": "code",
      "source": [
        "sampled_stats"
      ],
      "metadata": {
        "colab": {
          "base_uri": "https://localhost:8080/"
        },
        "id": "jCdRTMaiZSAY",
        "outputId": "53a82b37-3173-4c10-f4c5-0f9ae208e5ec"
      },
      "execution_count": null,
      "outputs": [
        {
          "output_type": "execute_result",
          "data": {
            "text/plain": [
              "array([ 0.00296017,  0.00188375,  0.00457481, ...,  0.00457481,\n",
              "        0.00941873,  0.0121098 ])"
            ]
          },
          "metadata": {},
          "execution_count": 15
        }
      ]
    },
    {
      "cell_type": "code",
      "source": [
        "empirical_P = np.count_nonzero(sampled_stats >= observed_statistic)/repetitions\n",
        "empirical_P"
      ],
      "metadata": {
        "colab": {
          "base_uri": "https://localhost:8080/"
        },
        "id": "2kNoDobpYPik",
        "outputId": "44e80534-0419-492a-d115-bf8c0bc45147"
      },
      "execution_count": null,
      "outputs": [
        {
          "output_type": "execute_result",
          "data": {
            "text/plain": [
              "0.5584"
            ]
          },
          "metadata": {},
          "execution_count": 13
        }
      ]
    },
    {
      "cell_type": "code",
      "source": [
        "np.count_nonzero(sampled_stats >= 0.035)/repetitions"
      ],
      "metadata": {
        "colab": {
          "base_uri": "https://localhost:8080/"
        },
        "id": "xYsdCl8xYTnz",
        "outputId": "2b41622a-af31-40f6-f8fb-de632a91b958"
      },
      "execution_count": null,
      "outputs": [
        {
          "output_type": "execute_result",
          "data": {
            "text/plain": [
              "0.0148"
            ]
          },
          "metadata": {},
          "execution_count": 14
        }
      ]
    }
  ]
}