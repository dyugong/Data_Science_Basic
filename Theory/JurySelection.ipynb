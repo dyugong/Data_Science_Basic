{
  "nbformat": 4,
  "nbformat_minor": 0,
  "metadata": {
    "colab": {
      "provenance": [],
      "include_colab_link": true
    },
    "kernelspec": {
      "name": "python3",
      "display_name": "Python 3"
    },
    "language_info": {
      "name": "python"
    }
  },
  "cells": [
    {
      "cell_type": "markdown",
      "metadata": {
        "id": "view-in-github",
        "colab_type": "text"
      },
      "source": [
        "<a href=\"https://colab.research.google.com/github/dyugong/Data_Science_Basic/blob/main/JurySelection.ipynb\" target=\"_parent\"><img src=\"https://colab.research.google.com/assets/colab-badge.svg\" alt=\"Open In Colab\"/></a>"
      ]
    },
    {
      "cell_type": "code",
      "execution_count": null,
      "metadata": {
        "id": "m5teD8rueUVi"
      },
      "outputs": [],
      "source": [
        "from datascience import *\n",
        "import numpy as np\n",
        "\n",
        "%matplotlib inline\n",
        "import matplotlib.pyplot as plots\n",
        "plots.style.use('fivethirtyeight')\n",
        "\n",
        "# 랜덤 넘버 제너레이터 시작~~\n",
        "#np.random.seed(3)\n"
      ]
    },
    {
      "cell_type": "code",
      "source": [
        "jury = Table().with_columns(\n",
        "'Ethnicity', make_array('Asian', 'Black', 'Latino', 'White',\n",
        "'Other'),\n",
        "'Eligible', make_array(0.15, 0.18, 0.12, 0.54, 0.01),\n",
        "'Panels', make_array(0.26, 0.08, 0.08, 0.54, 0.04)\n",
        ")\n",
        "jury"
      ],
      "metadata": {
        "colab": {
          "base_uri": "https://localhost:8080/",
          "height": 206
        },
        "id": "URNmQUCpWgno",
        "outputId": "d7182eba-af10-4571-ee17-e4252917c554"
      },
      "execution_count": null,
      "outputs": [
        {
          "output_type": "execute_result",
          "data": {
            "text/plain": [
              "Ethnicity | Eligible | Panels\n",
              "Asian     | 0.15     | 0.26\n",
              "Black     | 0.18     | 0.08\n",
              "Latino    | 0.12     | 0.08\n",
              "White     | 0.54     | 0.54\n",
              "Other     | 0.01     | 0.04"
            ],
            "text/html": [
              "<table border=\"1\" class=\"dataframe\">\n",
              "    <thead>\n",
              "        <tr>\n",
              "            <th>Ethnicity</th> <th>Eligible</th> <th>Panels</th>\n",
              "        </tr>\n",
              "    </thead>\n",
              "    <tbody>\n",
              "        <tr>\n",
              "            <td>Asian    </td> <td>0.15    </td> <td>0.26  </td>\n",
              "        </tr>\n",
              "        <tr>\n",
              "            <td>Black    </td> <td>0.18    </td> <td>0.08  </td>\n",
              "        </tr>\n",
              "        <tr>\n",
              "            <td>Latino   </td> <td>0.12    </td> <td>0.08  </td>\n",
              "        </tr>\n",
              "        <tr>\n",
              "            <td>White    </td> <td>0.54    </td> <td>0.54  </td>\n",
              "        </tr>\n",
              "        <tr>\n",
              "            <td>Other    </td> <td>0.01    </td> <td>0.04  </td>\n",
              "        </tr>\n",
              "    </tbody>\n",
              "</table>"
            ]
          },
          "metadata": {},
          "execution_count": 2
        }
      ]
    },
    {
      "cell_type": "code",
      "source": [
        "jury.barh('Ethnicity')"
      ],
      "metadata": {
        "colab": {
          "base_uri": "https://localhost:8080/",
          "height": 384
        },
        "id": "9KFribrDWq1G",
        "outputId": "2361e384-e189-48e4-e214-1771c4fadd02"
      },
      "execution_count": null,
      "outputs": [
        {
          "output_type": "display_data",
          "data": {
            "text/plain": [
              "<Figure size 600x400 with 1 Axes>"
            ],
            "image/png": "[encoded data removed]"
          },
          "metadata": {}
        }
      ]
    },
    {
      "cell_type": "code",
      "source": [
        "# Augment the table with a column of differences between proportions\n",
        "jury_with_diffs = jury.with_column(\n",
        "'Difference', jury.column('Panels') - jury.column('Eligible')\n",
        ")\n",
        "jury_with_diffs"
      ],
      "metadata": {
        "colab": {
          "base_uri": "https://localhost:8080/",
          "height": 206
        },
        "id": "hMjme0CSWvm-",
        "outputId": "47b07df6-84cc-46a6-b985-9d23cde20081"
      },
      "execution_count": null,
      "outputs": [
        {
          "output_type": "execute_result",
          "data": {
            "text/plain": [
              "Ethnicity | Eligible | Panels | Difference\n",
              "Asian     | 0.15     | 0.26   | 0.11\n",
              "Black     | 0.18     | 0.08   | -0.1\n",
              "Latino    | 0.12     | 0.08   | -0.04\n",
              "White     | 0.54     | 0.54   | 0\n",
              "Other     | 0.01     | 0.04   | 0.03"
            ],
            "text/html": [
              "<table border=\"1\" class=\"dataframe\">\n",
              "    <thead>\n",
              "        <tr>\n",
              "            <th>Ethnicity</th> <th>Eligible</th> <th>Panels</th> <th>Difference</th>\n",
              "        </tr>\n",
              "    </thead>\n",
              "    <tbody>\n",
              "        <tr>\n",
              "            <td>Asian    </td> <td>0.15    </td> <td>0.26  </td> <td>0.11      </td>\n",
              "        </tr>\n",
              "        <tr>\n",
              "            <td>Black    </td> <td>0.18    </td> <td>0.08  </td> <td>-0.1      </td>\n",
              "        </tr>\n",
              "        <tr>\n",
              "            <td>Latino   </td> <td>0.12    </td> <td>0.08  </td> <td>-0.04     </td>\n",
              "        </tr>\n",
              "        <tr>\n",
              "            <td>White    </td> <td>0.54    </td> <td>0.54  </td> <td>0         </td>\n",
              "        </tr>\n",
              "        <tr>\n",
              "            <td>Other    </td> <td>0.01    </td> <td>0.04  </td> <td>0.03      </td>\n",
              "        </tr>\n",
              "    </tbody>\n",
              "</table>"
            ]
          },
          "metadata": {},
          "execution_count": 5
        }
      ]
    },
    {
      "cell_type": "code",
      "source": [
        "jury_with_diffs = jury_with_diffs.with_column(\n",
        "'Abs. Difference',\n",
        "np.abs(jury_with_diffs.column('Difference'))\n",
        ")\n",
        "jury_with_diffs"
      ],
      "metadata": {
        "colab": {
          "base_uri": "https://localhost:8080/",
          "height": 206
        },
        "id": "tXcnIAr1W5ym",
        "outputId": "c4053c0e-f05d-40ee-891f-25aa13b4aecd"
      },
      "execution_count": null,
      "outputs": [
        {
          "output_type": "execute_result",
          "data": {
            "text/plain": [
              "Ethnicity | Eligible | Panels | Difference | Abs. Difference\n",
              "Asian     | 0.15     | 0.26   | 0.11       | 0.11\n",
              "Black     | 0.18     | 0.08   | -0.1       | 0.1\n",
              "Latino    | 0.12     | 0.08   | -0.04      | 0.04\n",
              "White     | 0.54     | 0.54   | 0          | 0\n",
              "Other     | 0.01     | 0.04   | 0.03       | 0.03"
            ],
            "text/html": [
              "<table border=\"1\" class=\"dataframe\">\n",
              "    <thead>\n",
              "        <tr>\n",
              "            <th>Ethnicity</th> <th>Eligible</th> <th>Panels</th> <th>Difference</th> <th>Abs. Difference</th>\n",
              "        </tr>\n",
              "    </thead>\n",
              "    <tbody>\n",
              "        <tr>\n",
              "            <td>Asian    </td> <td>0.15    </td> <td>0.26  </td> <td>0.11      </td> <td>0.11           </td>\n",
              "        </tr>\n",
              "        <tr>\n",
              "            <td>Black    </td> <td>0.18    </td> <td>0.08  </td> <td>-0.1      </td> <td>0.1            </td>\n",
              "        </tr>\n",
              "        <tr>\n",
              "            <td>Latino   </td> <td>0.12    </td> <td>0.08  </td> <td>-0.04     </td> <td>0.04           </td>\n",
              "        </tr>\n",
              "        <tr>\n",
              "            <td>White    </td> <td>0.54    </td> <td>0.54  </td> <td>0         </td> <td>0              </td>\n",
              "        </tr>\n",
              "        <tr>\n",
              "            <td>Other    </td> <td>0.01    </td> <td>0.04  </td> <td>0.03      </td> <td>0.03           </td>\n",
              "        </tr>\n",
              "    </tbody>\n",
              "</table>"
            ]
          },
          "metadata": {},
          "execution_count": 6
        }
      ]
    },
    {
      "cell_type": "code",
      "source": [
        "jury_with_diffs.column('Abs. Difference').sum()/2"
      ],
      "metadata": {
        "colab": {
          "base_uri": "https://localhost:8080/"
        },
        "id": "61xzTZtPXB2W",
        "outputId": "2d1a9532-1d77-40c1-e431-8ca1f9feb391"
      },
      "execution_count": null,
      "outputs": [
        {
          "output_type": "execute_result",
          "data": {
            "text/plain": [
              "0.14000000000000001"
            ]
          },
          "metadata": {},
          "execution_count": 7
        }
      ]
    },
    {
      "cell_type": "code",
      "source": [
        "def total_variation_distance(distribution_1, distribution_2):\n",
        "  return np.abs(distribution_1 - distribution_2).sum()/2"
      ],
      "metadata": {
        "id": "YpzdO8DwXE1g"
      },
      "execution_count": null,
      "outputs": []
    },
    {
      "cell_type": "code",
      "source": [
        "def table_tvd(table, label, other):\n",
        "  return total_variation_distance(table.column(label), table.column(other))\n",
        "\n",
        "table_tvd(jury, 'Eligible', 'Panels')"
      ],
      "metadata": {
        "colab": {
          "base_uri": "https://localhost:8080/"
        },
        "id": "SK18Kk8eXJrv",
        "outputId": "68a841a9-47d7-4203-defd-43102246b9cf"
      },
      "execution_count": null,
      "outputs": [
        {
          "output_type": "execute_result",
          "data": {
            "text/plain": [
              "0.14000000000000001"
            ]
          },
          "metadata": {},
          "execution_count": 10
        }
      ]
    },
    {
      "cell_type": "code",
      "source": [
        "panel_size = 1453\n",
        "#panels_and_sample = proportions_from_distribution(jury, 'Panels', panel_size)\n",
        "panels_and_sample = proportions_from_distribution(jury, 'Eligible', panel_size)\n",
        "\n",
        "panels_and_sample"
      ],
      "metadata": {
        "colab": {
          "base_uri": "https://localhost:8080/",
          "height": 206
        },
        "id": "_QXChoFmXTPH",
        "outputId": "24566aff-cfd6-4879-af31-ec8f664d2232"
      },
      "execution_count": null,
      "outputs": [
        {
          "output_type": "execute_result",
          "data": {
            "text/plain": [
              "Ethnicity | Eligible | Panels | Random Sample\n",
              "Asian     | 0.15     | 0.26   | 0.157605\n",
              "Black     | 0.18     | 0.08   | 0.189264\n",
              "Latino    | 0.12     | 0.08   | 0.118376\n",
              "White     | 0.54     | 0.54   | 0.523744\n",
              "Other     | 0.01     | 0.04   | 0.0110117"
            ],
            "text/html": [
              "<table border=\"1\" class=\"dataframe\">\n",
              "    <thead>\n",
              "        <tr>\n",
              "            <th>Ethnicity</th> <th>Eligible</th> <th>Panels</th> <th>Random Sample</th>\n",
              "        </tr>\n",
              "    </thead>\n",
              "    <tbody>\n",
              "        <tr>\n",
              "            <td>Asian    </td> <td>0.15    </td> <td>0.26  </td> <td>0.157605     </td>\n",
              "        </tr>\n",
              "        <tr>\n",
              "            <td>Black    </td> <td>0.18    </td> <td>0.08  </td> <td>0.189264     </td>\n",
              "        </tr>\n",
              "        <tr>\n",
              "            <td>Latino   </td> <td>0.12    </td> <td>0.08  </td> <td>0.118376     </td>\n",
              "        </tr>\n",
              "        <tr>\n",
              "            <td>White    </td> <td>0.54    </td> <td>0.54  </td> <td>0.523744     </td>\n",
              "        </tr>\n",
              "        <tr>\n",
              "            <td>Other    </td> <td>0.01    </td> <td>0.04  </td> <td>0.0110117    </td>\n",
              "        </tr>\n",
              "    </tbody>\n",
              "</table>"
            ]
          },
          "metadata": {},
          "execution_count": 19
        }
      ]
    },
    {
      "cell_type": "code",
      "source": [
        "panels_and_sample.barh('Ethnicity')"
      ],
      "metadata": {
        "colab": {
          "base_uri": "https://localhost:8080/",
          "height": 384
        },
        "id": "-kxrKQnoXafW",
        "outputId": "3435b088-3a2b-4122-bf70-915613cc54f3"
      },
      "execution_count": null,
      "outputs": [
        {
          "output_type": "display_data",
          "data": {
            "text/plain": [
              "<Figure size 600x400 with 1 Axes>"
            ],
            "image/png": "[encoded data removed]"
          },
          "metadata": {}
        }
      ]
    },
    {
      "cell_type": "code",
      "source": [
        "table_tvd(panels_and_sample, 'Eligible', 'Random Sample')"
      ],
      "metadata": {
        "colab": {
          "base_uri": "https://localhost:8080/"
        },
        "id": "f-Clj22wXeIP",
        "outputId": "52c4ed84-8973-43b4-cd03-eb4659eb658b"
      },
      "execution_count": null,
      "outputs": [
        {
          "output_type": "execute_result",
          "data": {
            "text/plain": [
              "0.006490020646937331"
            ]
          },
          "metadata": {},
          "execution_count": 13
        }
      ]
    },
    {
      "cell_type": "code",
      "source": [
        "# Compute empirical distribution of TVDs\n",
        "panel_size = 1453\n",
        "repetitions = 5000\n",
        "tvds = make_array()\n",
        "for i in np.arange(repetitions):\n",
        "  new_sample = proportions_from_distribution(jury, 'Eligible', panel_size)\n",
        "  tvds = np.append(tvds, table_tvd(new_sample, 'Eligible', 'Random Sample'))\n",
        "\n",
        "results = Table().with_column('TVD', tvds)\n",
        "results"
      ],
      "metadata": {
        "colab": {
          "base_uri": "https://localhost:8080/",
          "height": 392
        },
        "id": "usgJOsNGXj12",
        "outputId": "fa325705-684c-4666-eb06-a0b21353b90d"
      },
      "execution_count": null,
      "outputs": [
        {
          "output_type": "execute_result",
          "data": {
            "text/plain": [
              "TVD\n",
              "0.0120578\n",
              "0.0115898\n",
              "0.0208603\n",
              "0.0213833\n",
              "0.0163042\n",
              "0.0131796\n",
              "0.0239849\n",
              "0.0248864\n",
              "0.00460427\n",
              "0.0239849\n",
              "... (4990 rows omitted)"
            ],
            "text/html": [
              "<table border=\"1\" class=\"dataframe\">\n",
              "    <thead>\n",
              "        <tr>\n",
              "            <th>TVD</th>\n",
              "        </tr>\n",
              "    </thead>\n",
              "    <tbody>\n",
              "        <tr>\n",
              "            <td>0.0120578 </td>\n",
              "        </tr>\n",
              "        <tr>\n",
              "            <td>0.0115898 </td>\n",
              "        </tr>\n",
              "        <tr>\n",
              "            <td>0.0208603 </td>\n",
              "        </tr>\n",
              "        <tr>\n",
              "            <td>0.0213833 </td>\n",
              "        </tr>\n",
              "        <tr>\n",
              "            <td>0.0163042 </td>\n",
              "        </tr>\n",
              "        <tr>\n",
              "            <td>0.0131796 </td>\n",
              "        </tr>\n",
              "        <tr>\n",
              "            <td>0.0239849 </td>\n",
              "        </tr>\n",
              "        <tr>\n",
              "            <td>0.0248864 </td>\n",
              "        </tr>\n",
              "        <tr>\n",
              "            <td>0.00460427</td>\n",
              "        </tr>\n",
              "        <tr>\n",
              "            <td>0.0239849 </td>\n",
              "        </tr>\n",
              "    </tbody>\n",
              "</table>\n",
              "<p>... (4990 rows omitted)</p>"
            ]
          },
          "metadata": {},
          "execution_count": 14
        }
      ]
    },
    {
      "cell_type": "code",
      "source": [
        "results.hist(bins=np.arange(0, 0.2, 0.005))"
      ],
      "metadata": {
        "colab": {
          "base_uri": "https://localhost:8080/",
          "height": 410
        },
        "id": "kx9B1v3_XvN-",
        "outputId": "4ac61fcb-ba08-48a5-adca-da278b7a33f6"
      },
      "execution_count": null,
      "outputs": [
        {
          "output_type": "display_data",
          "data": {
            "text/plain": [
              "<Figure size 600x400 with 1 Axes>"
            ],
            "image/png": "[encoded data removed]"
          },
          "metadata": {}
        }
      ]
    }
  ]
}
